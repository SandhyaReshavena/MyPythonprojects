{
 "cells": [
  {
   "cell_type": "markdown",
   "id": "9fc15fce",
   "metadata": {},
   "source": [
    " Mean Median Mode are fundamentals of Statistics which are used in our day to day life"
   ]
  },
  {
   "cell_type": "markdown",
   "id": "df3b67e7",
   "metadata": {},
   "source": [
    "Mean\n",
    "The mean is the average value of all the values in a dataset. \n",
    "To calculate the mean value of a dataset, we first need to find the sum of all the values and then divide the sum of all the values by the total number of values. \n",
    "So here’s how to calculate the mean using Python:"
   ]
  },
  {
   "cell_type": "code",
   "execution_count": 1,
   "id": "9afe9eeb",
   "metadata": {},
   "outputs": [
    {
     "name": "stdout",
     "output_type": "stream",
     "text": [
      "20.2\n"
     ]
    }
   ],
   "source": [
    "# Mean\n",
    "list1 = [12, 16, 20, 20, 12, 30, 25, 23, 24, 20]\n",
    "mean = sum(list1)/len(list1)\n",
    "print(mean)"
   ]
  },
  {
   "cell_type": "markdown",
   "id": "34280666",
   "metadata": {},
   "source": [
    "Median\n",
    "The Median is the middle value among all the values in sorted order. Here we need to calculate the mid-value of all the values in a dataset. But before calculating the Median, we need to arrange all the values in sorted order. There are two different ways of calculating the median value:\n",
    "\n",
    "total number of values is even: Median  = [(n/2)th term + {(n/2)+1}th]/2\n",
    "total number of values is odd: Median = {(n+1)/2}thterm"
   ]
  },
  {
   "cell_type": "code",
   "execution_count": 5,
   "id": "0fed34e2",
   "metadata": {},
   "outputs": [],
   "source": [
    "# Median\n",
    "list1 = [12, 16, 20, 20, 12, 30, 25, 23, 24, 20]\n",
    "list1.sort()\n",
    "\n",
    "if len(list1) % 2 == 0:\n",
    "    m1 = list1[len(list1)//2]\n",
    "    m2 = list1[len(list1)//2 - 1]\n",
    "    median = (m1 + m2)/2\n",
    "else:\n",
    "    median = list1[len(list1)//2]\n",
    "print(median)"
   ]
  },
  {
   "cell_type": "markdown",
   "id": "2c7fe051",
   "metadata": {},
   "source": [
    "Mode\n",
    "Mode is the most frequently occurring value among all the values. Below is how we can calculate the mode value of a dataset using Python:"
   ]
  },
  {
   "cell_type": "code",
   "execution_count": 6,
   "id": "7dc25b75",
   "metadata": {},
   "outputs": [
    {
     "name": "stdout",
     "output_type": "stream",
     "text": [
      "20\n"
     ]
    }
   ],
   "source": [
    "# Mode\n",
    "list1 = [12, 16, 20, 20, 12, 30, 25, 23, 24, 20]\n",
    "frequency = {}\n",
    "for i in list1:\n",
    "    frequency.setdefault(i, 0)\n",
    "    frequency[i]+=1\n",
    "\n",
    "frequent = max(frequency.values())\n",
    "for i, j in frequency.items():\n",
    "    if j == frequent:\n",
    "        mode = i\n",
    "print(mode)"
   ]
  },
  {
   "cell_type": "code",
   "execution_count": null,
   "id": "e84e26fa",
   "metadata": {},
   "outputs": [],
   "source": []
  }
 ],
 "metadata": {
  "kernelspec": {
   "display_name": "Python 3 (ipykernel)",
   "language": "python",
   "name": "python3"
  },
  "language_info": {
   "codemirror_mode": {
    "name": "ipython",
    "version": 3
   },
   "file_extension": ".py",
   "mimetype": "text/x-python",
   "name": "python",
   "nbconvert_exporter": "python",
   "pygments_lexer": "ipython3",
   "version": "3.9.7"
  }
 },
 "nbformat": 4,
 "nbformat_minor": 5
}
