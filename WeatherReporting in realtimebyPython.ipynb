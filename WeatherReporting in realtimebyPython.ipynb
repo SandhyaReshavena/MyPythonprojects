{
 "cells": [
  {
   "cell_type": "code",
   "execution_count": null,
   "id": "bee9c4a4",
   "metadata": {},
   "outputs": [],
   "source": [
    "To get real-time weather conditions for any city using Python, \n",
    "I’ll write Python code that takes the name of a city and returns the weather information for that city by scratching the web. \n",
    "So instead of using a paid API, we’ll be using web scraping for this task."
   ]
  },
  {
   "cell_type": "code",
   "execution_count": null,
   "id": "85cedadd",
   "metadata": {},
   "outputs": [],
   "source": [
    "For this task, I will be using Beautifulsoup and the requests library in Python to extract the data directly from Google. \n",
    "The requests library comes preinstalled in the Python programming language, you can install the Beautifulsoup library by using a pip command; pip install beautifulsoup4. \n",
    "Remember that this library is imported by the name of bs4 in your Python code.\n",
    "\n",
    "Now let’s see how to get the Real-time weather conditions with Python of any city by using web scraping:"
   ]
  },
  {
   "cell_type": "code",
   "execution_count": 1,
   "id": "71dec774",
   "metadata": {},
   "outputs": [
    {
     "name": "stdout",
     "output_type": "stream",
     "text": [
      "enter the city name\n",
      "Manchester\n",
      "Searching in google......\n",
      "\n",
      "Manchester, UK\n",
      "Wednesday 12:00\n",
      "Partly cloudy\n",
      "19°C\n"
     ]
    }
   ],
   "source": [
    "from bs4 import BeautifulSoup\n",
    "import requests\n",
    "headers = {'User-Agent': 'Mozilla/5.0 (Windows NT 10.0; Win64; x64) AppleWebKit/537.36 (KHTML, like Gecko) Chrome/58.0.3029.110 Safari/537.3'}\n",
    "\n",
    "def weather(city):\n",
    "    city=city.replace(\" \",\"+\")\n",
    "    res = requests.get(f'https://www.google.com/search?q={city}&oq={city}&aqs=chrome.0.35i39l2j0l4j46j69i60.6128j1j7&sourceid=chrome&ie=UTF-8',headers=headers)\n",
    "    print(\"Searching in google......\\n\")\n",
    "    soup = BeautifulSoup(res.text,'html.parser')   \n",
    "    location = soup.select('#wob_loc')[0].getText().strip()  \n",
    "    time = soup.select('#wob_dts')[0].getText().strip()       \n",
    "    info = soup.select('#wob_dc')[0].getText().strip() \n",
    "    weather = soup.select('#wob_tm')[0].getText().strip()\n",
    "    print(location)\n",
    "    print(time)\n",
    "    print(info)\n",
    "    print(weather+\"°C\") \n",
    "\n",
    "print(\"enter the city name\")\n",
    "city=input()\n",
    "city=city+\" weather\"\n",
    "weather(city)"
   ]
  },
  {
   "cell_type": "code",
   "execution_count": null,
   "id": "6b7712f8",
   "metadata": {},
   "outputs": [],
   "source": []
  }
 ],
 "metadata": {
  "kernelspec": {
   "display_name": "Python 3 (ipykernel)",
   "language": "python",
   "name": "python3"
  },
  "language_info": {
   "codemirror_mode": {
    "name": "ipython",
    "version": 3
   },
   "file_extension": ".py",
   "mimetype": "text/x-python",
   "name": "python",
   "nbconvert_exporter": "python",
   "pygments_lexer": "ipython3",
   "version": "3.9.7"
  }
 },
 "nbformat": 4,
 "nbformat_minor": 5
}
