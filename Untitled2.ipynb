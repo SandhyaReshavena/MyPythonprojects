{
 "cells": [
  {
   "cell_type": "markdown",
   "id": "f2af8d81",
   "metadata": {},
   "source": [
    "Execution Time of a Python Program\n",
    "It is important to calculate the execution time when working on a large project. When working on a large project, we have several approaches in mind. The best should be the one that takes the shortest execution time in all scenarios.\n",
    "\n",
    "So to calculate the execution time of a Python program, we need to follow the steps mentioned below:\n",
    "\n",
    "First, store the time of initiation of the program into a variable;\n",
    "Write the Python program;\n",
    "Store the end time of the program into a variable;\n",
    "Subtract the time of initiation of the program from the end time of the program;\n",
    "In the end, you will get the execution time of your program in seconds."
   ]
  },
  {
   "cell_type": "code",
   "execution_count": 1,
   "id": "c20a0bb7",
   "metadata": {},
   "outputs": [
    {
     "name": "stdout",
     "output_type": "stream",
     "text": [
      " AI\n",
      "Execution Time :  0.0\n"
     ]
    }
   ],
   "source": [
    "from time import time\n",
    "start = time()\n",
    "\n",
    "# Python program to create acronyms\n",
    "word = \"Artificial Intelligence\"\n",
    "text = word.split()\n",
    "a = \" \"\n",
    "for i in text:\n",
    "    a = a+str(i[0]).upper()\n",
    "print(a)\n",
    "\n",
    "end = time()\n",
    "execution_time = end - start\n",
    "print(\"Execution Time : \", execution_time)"
   ]
  },
  {
   "cell_type": "code",
   "execution_count": null,
   "id": "bf68cb8c",
   "metadata": {},
   "outputs": [],
   "source": []
  }
 ],
 "metadata": {
  "kernelspec": {
   "display_name": "Python 3 (ipykernel)",
   "language": "python",
   "name": "python3"
  },
  "language_info": {
   "codemirror_mode": {
    "name": "ipython",
    "version": 3
   },
   "file_extension": ".py",
   "mimetype": "text/x-python",
   "name": "python",
   "nbconvert_exporter": "python",
   "pygments_lexer": "ipython3",
   "version": "3.9.7"
  }
 },
 "nbformat": 4,
 "nbformat_minor": 5
}
